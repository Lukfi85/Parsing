{
 "cells": [
  {
   "cell_type": "code",
   "execution_count": 85,
   "metadata": {},
   "outputs": [],
   "source": [
    "from selenium import webdriver\n",
    "from selenium.webdriver.common.keys import Keys\n",
    "import time\n",
    "from selenium.webdriver.common.action_chains import ActionChains\n",
    "from selenium.webdriver.chrome.options import Options\n",
    "from pymongo import MongoClient"
   ]
  },
  {
   "cell_type": "code",
   "execution_count": 86,
   "metadata": {},
   "outputs": [],
   "source": [
    "client = MongoClient('127.0.0.1', 27017)\n",
    "db = client['mail']"
   ]
  },
  {
   "cell_type": "code",
   "execution_count": 87,
   "metadata": {},
   "outputs": [],
   "source": [
    "chrome_options = Options()\n",
    "chrome_options.add_argument('start-maximized')\n",
    "driver = webdriver.Chrome(options=chrome_options)\n",
    "driver.get('https://mail.ru/')\n",
    "\n",
    "login = driver.find_element_by_name('login')\n",
    "login.send_keys('study.ai_172')\n",
    "login.send_keys(Keys.ENTER)\n",
    "\n",
    "time.sleep(1)\n",
    "\n",
    "password = driver.find_element_by_name('password')\n",
    "password.send_keys('NextPassword172')\n",
    "password.send_keys(Keys.ENTER)"
   ]
  },
  {
   "cell_type": "code",
   "execution_count": 88,
   "metadata": {},
   "outputs": [],
   "source": [
    "last_letter = []\n",
    "links = []\n",
    "while True:\n",
    "\n",
    "    time.sleep(2)\n",
    "    letters = driver.find_elements_by_class_name('js-tooltip-direction_letter-bottom')\n",
    "    \n",
    "    for i in letters:\n",
    "        link = i.get_attribute('href')\n",
    "        if link not in links:\n",
    "            links.append(link)\n",
    "            \n",
    "    if letters[-1] != last_letter:\n",
    "        last_letter = letters[-1]\n",
    "        actions = ActionChains(driver)\n",
    "        actions.move_to_element(letters[-1])\n",
    "        actions.perform()\n",
    "        \n",
    "    else:\n",
    "\n",
    "        break        "
   ]
  },
  {
   "cell_type": "code",
   "execution_count": 89,
   "metadata": {},
   "outputs": [],
   "source": [
    "for link in links:\n",
    "    data = {}\n",
    "    driver.get(link)\n",
    "    time.sleep(3)\n",
    "    \n",
    "    from_email = driver.find_elements_by_xpath(\"//div[@class='letter__author']/span\")[0].get_attribute('title')\n",
    "    name = driver.find_elements_by_xpath(\"//div[@class='letter__author']/span\")[0].text\n",
    "    letter_theme = driver.find_elements_by_xpath(\"//div[@class='thread__subject-line']/h2\")[0].text\n",
    "    letter_body = driver.find_elements_by_class_name('letter-body__body')[0].text\n",
    "    letter_date = driver.find_elements_by_class_name('letter__date')[0].text.split(',')\n",
    "    \n",
    "    db.letters.insert_one({\n",
    "        'from_email':from_email,\n",
    "        'name':name,\n",
    "        'letter_theme':letter_theme,\n",
    "        'letter_body':letter_body,\n",
    "        'letter_date':letter_date\n",
    "        \n",
    "    })\n"
   ]
  },
  {
   "cell_type": "code",
   "execution_count": 93,
   "metadata": {},
   "outputs": [
    {
     "name": "stdout",
     "output_type": "stream",
     "text": [
      "{'_id': ObjectId('5f06151ab392c0aa2b7640a3'), 'from_email': 'security@id.mail.ru', 'name': 'Mail.ru', 'letter_theme': 'Вход с нового устройства в аккаунт', 'letter_body': '        Вход с нового устройства в аккаунт\\n study.ai_172@mail.ru \\n      В аккаунт study.ai_172@mail.ru вошли с нового устройства.\\n  Если вы этого не делали, измените пароль, чтобы обезопасить аккаунт.\\n  Время 8 июля, 19:41\\n  Устройство Роботы, Роботы, Москва, Россия\\n  Посмотреть список устройств\\n  Узнайте, как защитить аккаунт, на нашем сайте по безопасности.\\n    Вы получили это письмо, потому что являетесь пользователем Mail\\u200c.ru на основании Пользовательского соглашения.\\n  Copyright 2020 Mail\\u200c.ru Group, Москва — Все права защищены.\\n  Служба поддержки      Mail ID\\n   ', 'letter_date': ['Сегодня', ' 19:41']}\n",
      "{'_id': ObjectId('5f06151eb392c0aa2b7640a4'), 'from_email': 'security@id.mail.ru', 'name': 'Mail.ru', 'letter_theme': 'Вход с нового устройства в аккаунт', 'letter_body': '        Вход с нового устройства в аккаунт\\n study.ai_172@mail.ru \\n      В аккаунт study.ai_172@mail.ru вошли с нового устройства.\\n  Если вы этого не делали, измените пароль, чтобы обезопасить аккаунт.\\n  Время 8 июля, 19:16\\n  Устройство Роботы, Роботы, Москва, Россия\\n  Посмотреть список устройств\\n  Узнайте, как защитить аккаунт, на нашем сайте по безопасности.\\n    Вы получили это письмо, потому что являетесь пользователем Mail\\u200c.ru на основании Пользовательского соглашения.\\n  Copyright 2020 Mail\\u200c.ru Group, Москва — Все права защищены.\\n  Служба поддержки      Mail ID\\n   ', 'letter_date': ['Сегодня', ' 19:17']}\n",
      "{'_id': ObjectId('5f061521b392c0aa2b7640a5'), 'from_email': 'security@id.mail.ru', 'name': 'Mail.ru', 'letter_theme': 'Вход с нового устройства в аккаунт', 'letter_body': '        Вход с нового устройства в аккаунт\\n study.ai_172@mail.ru \\n      В аккаунт study.ai_172@mail.ru вошли с нового устройства.\\n  Если вы этого не делали, измените пароль, чтобы обезопасить аккаунт.\\n  Время 8 июля, 19:16\\n  Устройство Роботы, Роботы, Москва, Россия\\n  Посмотреть список устройств\\n  Узнайте, как защитить аккаунт, на нашем сайте по безопасности.\\n    Вы получили это письмо, потому что являетесь пользователем Mail\\u200c.ru на основании Пользовательского соглашения.\\n  Copyright 2020 Mail\\u200c.ru Group, Москва — Все права защищены.\\n  Служба поддержки      Mail ID\\n   ', 'letter_date': ['Сегодня', ' 19:16']}\n",
      "{'_id': ObjectId('5f061525b392c0aa2b7640a6'), 'from_email': 'security@id.mail.ru', 'name': 'Mail.ru', 'letter_theme': 'Вход с нового устройства в аккаунт', 'letter_body': '        Вход с нового устройства в аккаунт\\n study.ai_172@mail.ru \\n      В аккаунт study.ai_172@mail.ru вошли с нового устройства.\\n  Если вы этого не делали, измените пароль, чтобы обезопасить аккаунт.\\n  Время 8 июля, 19:13\\n  Устройство Роботы, Роботы, Москва, Россия\\n  Посмотреть список устройств\\n  Узнайте, как защитить аккаунт, на нашем сайте по безопасности.\\n    Вы получили это письмо, потому что являетесь пользователем Mail\\u200c.ru на основании Пользовательского соглашения.\\n  Copyright 2020 Mail\\u200c.ru Group, Москва — Все права защищены.\\n  Служба поддержки      Mail ID\\n   ', 'letter_date': ['Сегодня', ' 19:13']}\n",
      "{'_id': ObjectId('5f061528b392c0aa2b7640a7'), 'from_email': 'security@id.mail.ru', 'name': 'Mail.ru', 'letter_theme': 'Вход с нового устройства в аккаунт', 'letter_body': '        Вход с нового устройства в аккаунт\\n study.ai_172@mail.ru \\n      В аккаунт study.ai_172@mail.ru вошли с нового устройства.\\n  Если вы этого не делали, измените пароль, чтобы обезопасить аккаунт.\\n  Время 8 июля, 15:19\\n  Устройство Ubuntu, Mozilla Firefox 78, Москва, Россия\\n  Посмотреть список устройств\\n  Узнайте, как защитить аккаунт, на нашем сайте по безопасности.\\n    Вы получили это письмо, потому что являетесь пользователем Mail\\u200c.ru на основании Пользовательского соглашения.\\n  Copyright 2020 Mail\\u200c.ru Group, Москва — Все права защищены.\\n  Служба поддержки      Mail ID\\n   ', 'letter_date': ['Сегодня', ' 15:19']}\n",
      "{'_id': ObjectId('5f06152bb392c0aa2b7640a8'), 'from_email': 'security@id.mail.ru', 'name': 'Mail.ru', 'letter_theme': 'Вход с нового устройства в аккаунт', 'letter_body': '        Вход с нового устройства в аккаунт\\n study.ai_172@mail.ru \\n      В аккаунт study.ai_172@mail.ru вошли с нового устройства.\\n  Если вы этого не делали, измените пароль, чтобы обезопасить аккаунт.\\n  Время 8 июля, 00:56\\n  Устройство Роботы, Роботы, Ростов-на-Дону, Россия\\n  Посмотреть список устройств\\n  Узнайте, как защитить аккаунт, на нашем сайте по безопасности.\\n    Вы получили это письмо, потому что являетесь пользователем Mail\\u200c.ru на основании Пользовательского соглашения.\\n  Copyright 2020 Mail\\u200c.ru Group, Москва — Все права защищены.\\n  Служба поддержки      Mail ID\\n   ', 'letter_date': ['Сегодня', ' 0:56']}\n",
      "{'_id': ObjectId('5f06152eb392c0aa2b7640a9'), 'from_email': 'study.ai_172@mail.ru', 'name': 'study ai_172', 'letter_theme': 'Ночная тема', 'letter_body': 'Сон для слабаков\\n --\\nstudy ai_172', 'letter_date': ['25 июня', ' 3:56']}\n",
      "{'_id': ObjectId('5f061532b392c0aa2b7640aa'), 'from_email': '222222.ru@mail.ru', 'name': '222222 222222', 'letter_theme': 'Тест тема или тема тест', 'letter_body': 'Очень очень очень очень очень длинное тестовое письмо.\\n--\\nОтправлено из Mail.ru для Android', 'letter_date': ['22 июня', ' 10:51']}\n",
      "{'_id': ObjectId('5f061535b392c0aa2b7640ab'), 'from_email': 'study.ai_172@mail.ru', 'name': 'study ai_172', 'letter_theme': 'Тестовая тема', 'letter_body': 'Текст письма\\n --\\nstudy ai_172', 'letter_date': ['18 июня', ' 13:22']}\n",
      "{'_id': ObjectId('5f061539b392c0aa2b7640ac'), 'from_email': 'info@e.mail.ru', 'name': 'Почта Mail.ru', 'letter_theme': 'Новая папка «Письма себе»', 'letter_body': '  Здравствуйте!\\n      Встречайте,\\n«Письма себе»\\n  Отправляйте важное себе в почту — так оно всегда будет в быстром доступе.\\n  Включить группировку\\n      Почему это удобно\\n  Папка «Письма себе» — аналог заметкам. Отправляйте себе все, что может пригодиться в любой момент:\\n      Cохраняйте рабочие документы, чтобы иметь к ним быстрый доступ с любого устройства в любое время.\\n    Составьте список продуктов, которые нужно купить домой\\n    Cохраняйте важные ссылки, чтобы они не потерялись\\n  Собрать в папку\\n    Быстрый поиск\\n  Верный способ не потерять важную информацию — отправить ее самому себе в почту. Письма всегда под рукой во входящих и в списке папок.\\n    Как включить группировку писем себе\\n  1.\\nНажмите значок\\nпод списком папок.\\n  2. Установите галочку «Группировать письма себе».\\n  Во «Входящих» появится подпапка «Письма себе». Все письма будут попадать туда автоматически.\\n  Включить группировку\\n    С наилучшими пожеланиями, команда Почты Mail\\u200c.ru\\n  Copyright 2020 Mail\\u200c.ru Group, Москва. Все права защищены.\\n   ', 'letter_date': ['18 июня', ' 13:22']}\n"
     ]
    }
   ],
   "source": [
    "for i in db.letters.find({}).limit(10):\n",
    "    print(i)"
   ]
  },
  {
   "cell_type": "code",
   "execution_count": null,
   "metadata": {},
   "outputs": [],
   "source": []
  }
 ],
 "metadata": {
  "kernelspec": {
   "display_name": "Python 3",
   "language": "python",
   "name": "python3"
  },
  "language_info": {
   "codemirror_mode": {
    "name": "ipython",
    "version": 3
   },
   "file_extension": ".py",
   "mimetype": "text/x-python",
   "name": "python",
   "nbconvert_exporter": "python",
   "pygments_lexer": "ipython3",
   "version": "3.7.6"
  }
 },
 "nbformat": 4,
 "nbformat_minor": 4
}
