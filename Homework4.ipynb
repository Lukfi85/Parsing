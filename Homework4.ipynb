{
 "cells": [
  {
   "cell_type": "code",
   "execution_count": 64,
   "metadata": {},
   "outputs": [],
   "source": [
    "from pprint import pprint\n",
    "from lxml import html\n",
    "import requests\n",
    "import re\n",
    "from pymongo import MongoClient\n",
    "import datetime"
   ]
  },
  {
   "cell_type": "markdown",
   "metadata": {},
   "source": [
    "1)Написать приложение, которое собирает основные новости с сайтов news.mail.ru, lenta.ru, yandex.news\n",
    "Для парсинга использовать xpath. Структура данных должна содержать:\n",
    "название источника,\n",
    "наименование новости,\n",
    "ссылку на новость,\n",
    "дата публикации\n",
    "\n",
    "2)Сложить все новости в БД"
   ]
  },
  {
   "cell_type": "code",
   "execution_count": 73,
   "metadata": {},
   "outputs": [],
   "source": [
    "client = MongoClient('127.0.0.1', 27017)\n",
    "db = client['news']"
   ]
  },
  {
   "cell_type": "code",
   "execution_count": 75,
   "metadata": {},
   "outputs": [],
   "source": [
    "now = datetime.datetime.now()\n",
    "date = now.strftime(\"%d-%m-%Y\")"
   ]
  },
  {
   "cell_type": "markdown",
   "metadata": {},
   "source": [
    "## Новости с Яндэкс, по региону Москва."
   ]
  },
  {
   "cell_type": "code",
   "execution_count": 58,
   "metadata": {},
   "outputs": [],
   "source": [
    "header = {'User-Agent':'Mozilla/5.0 (Windows NT 10.0; Win64; x64) AppleWebKit/537.36 (KHTML, like Gecko) Chrome/81.0.4044.138 YaBrowser/20.6.2.195 Yowser/2.5 Safari/537.36'}\n",
    "link = 'https://yandex.ru/news/'\n",
    "response = requests.get(link, headers=header)\n",
    "dom = html.fromstring(response.text)\n",
    "title = dom.xpath(\"//div[@aria-labelledby='Moscow']//tr//a[contains(@class,'link_theme_black')]/text()\")\n",
    "link = dom.xpath(\"//div[@aria-labelledby='Moscow']//tr//a[contains(@class,'link_theme_black')]/@href\")\n",
    "sourse = dom.xpath(\"//div[@aria-labelledby='Moscow']//tr//div[@class='story__date']/text()\")"
   ]
  },
  {
   "cell_type": "code",
   "execution_count": 94,
   "metadata": {},
   "outputs": [],
   "source": [
    "for ind,news in enumerate(title):\n",
    "    db.news.insert_one({\n",
    "        'title': news,\n",
    "        'link':link[ind],\n",
    "        'sourse':sourse[ind][:len(sourse[ind])-6],\n",
    "        'date':date\n",
    "    })"
   ]
  },
  {
   "cell_type": "code",
   "execution_count": 96,
   "metadata": {},
   "outputs": [
    {
     "name": "stdout",
     "output_type": "stream",
     "text": [
      "{'_id': ObjectId('5f01d851c82aee057490f503'),\n",
      " 'date': '05-07-2020',\n",
      " 'link': '/news/story/Komnaty_prokhlady_otkrylis_v_stolichnykh_centrakh_socobsluzhivaniya--b55045f05518435f290bfed07beebf09?lr=213&lang=ru&stid=IHBYg5ZxMzFKelP1ceqw&persistent_id=104208121&rubric=Moscow&from=index',\n",
      " 'sourse': 'РИАМО',\n",
      " 'title': 'Комнаты прохлады открылись в столичных центрах соцобслуживания'}\n",
      "{'_id': ObjectId('5f01d851c82aee057490f504'),\n",
      " 'date': '05-07-2020',\n",
      " 'link': '/news/story/V_baze_centra_zanyatosti_Moskvy_za_mesyac_poyavilis_pyat_tysyach_vakansij--3e8e35556d72171f9db21e2c908bc894?lr=213&lang=ru&stid=Oo6FKLt5Pe8Qd_nuFq8T&persistent_id=104718191&rubric=Moscow&from=index',\n",
      " 'sourse': 'РИА Новости',\n",
      " 'title': 'В базе центра занятости Москвы за месяц появились пять тысяч '\n",
      "          'вакансий'}\n"
     ]
    }
   ],
   "source": [
    "for i in db.news.find({}).limit(2):\n",
    "    pprint(i)"
   ]
  },
  {
   "cell_type": "markdown",
   "metadata": {},
   "source": [
    "## Новости с Лента, топ 7 новостей."
   ]
  },
  {
   "cell_type": "code",
   "execution_count": 101,
   "metadata": {},
   "outputs": [],
   "source": [
    "link = 'https://lenta.ru/'\n",
    "response = requests.get(link, headers=header)\n",
    "dom = html.fromstring(response.text)"
   ]
  },
  {
   "cell_type": "code",
   "execution_count": 102,
   "metadata": {},
   "outputs": [],
   "source": [
    "title = dom.xpath(\"//section[@class = 'row b-top7-for-main js-top-seven']/div[contains(@class,'span4')]/div[contains(@class,'item')]//a[contains(@href,'news') and not(img)]/text()\")\n",
    "link = dom.xpath(\"//section[@class = 'row b-top7-for-main js-top-seven']/div[contains(@class,'span4')]/div[contains(@class,'item')]//a[contains(@href,'news') and not(img)]/@href\")\n",
    "date = dom.xpath(\"//section[@class = 'row b-top7-for-main js-top-seven']/div[contains(@class,'span4')]/div[contains(@class,'item')]//a[contains(@href,'news') and not(img)]/time/@datetime\")"
   ]
  },
  {
   "cell_type": "code",
   "execution_count": 117,
   "metadata": {},
   "outputs": [],
   "source": [
    "for ind,news in enumerate(title):\n",
    "    db.news.insert_one({\n",
    "        'title': news.replace('\\xa0',' '),\n",
    "        'link':link[ind],\n",
    "        'sourse':'Lenta',\n",
    "        'date':date[ind][-11:]\n",
    "    })"
   ]
  },
  {
   "cell_type": "code",
   "execution_count": 118,
   "metadata": {},
   "outputs": [
    {
     "name": "stdout",
     "output_type": "stream",
     "text": [
      "{'_id': ObjectId('5f01daaec82aee057490f53a'),\n",
      " 'date': '5 июля 2020',\n",
      " 'link': '/news/2020/07/05/vtoroi/',\n",
      " 'sourse': 'Lenta',\n",
      " 'title': 'В Австрии задержан второй подозреваемый в убийстве просителя '\n",
      "          'убежища из России'}\n",
      "{'_id': ObjectId('5f01daaec82aee057490f53b'),\n",
      " 'date': '5 июля 2020',\n",
      " 'link': '/news/2020/07/05/polgoda/',\n",
      " 'sourse': 'Lenta',\n",
      " 'title': 'Россиянин избил 10-летнего мальчика и полгода оставался '\n",
      "          'безнаказанным'}\n"
     ]
    }
   ],
   "source": [
    "for i in db.news.find({}).limit(2):\n",
    "    pprint(i)"
   ]
  },
  {
   "cell_type": "markdown",
   "metadata": {},
   "source": [
    "## Новости с мэил, политика."
   ]
  },
  {
   "cell_type": "code",
   "execution_count": 119,
   "metadata": {},
   "outputs": [],
   "source": [
    "link = 'https://news.mail.ru/'\n",
    "response = requests.get(link, headers=header)\n",
    "dom = html.fromstring(response.text)"
   ]
  },
  {
   "cell_type": "code",
   "execution_count": 120,
   "metadata": {},
   "outputs": [],
   "source": [
    "links = dom.xpath(\"//div[@class='block block_separated_top rb_nat']/div/div/div/div[1]/div//a[contains(@href,'news')]/@href\")"
   ]
  },
  {
   "cell_type": "code",
   "execution_count": 172,
   "metadata": {},
   "outputs": [],
   "source": [
    "for link in links:\n",
    "    resp_news = requests.get(link, headers=header)\n",
    "    dom_news = html.fromstring(resp_news.text)\n",
    "    date = dom_news.xpath(\"//span[@class='note__text breadcrumbs__text js-ago']/@datetime\")\n",
    "    title = dom_news.xpath(\"//h1[@class='hdr__inner']/text()\")\n",
    "    sourse = dom_news.xpath(\"//div[@class='breadcrumbs breadcrumbs_article js-ago-wrapper']/span[2]//span[@class='link__text']/text()\")\n",
    "    db.news.insert_one({\n",
    "        'title': title[0],\n",
    "        'link':link,\n",
    "        'sourse':sourse[0],\n",
    "        'date':date[0][:10]\n",
    "    })"
   ]
  },
  {
   "cell_type": "code",
   "execution_count": 173,
   "metadata": {},
   "outputs": [
    {
     "name": "stdout",
     "output_type": "stream",
     "text": [
      "{'_id': ObjectId('5f01df2dc82aee057490f578'),\n",
      " 'date': '2020-07-05',\n",
      " 'link': 'https://news.mail.ru/politics/42451941/',\n",
      " 'sourse': 'BBC News Русская служба',\n",
      " 'title': 'Рэпер Канье Уэст предложил себя на смену Трампу. Он это серьезно?'}\n",
      "{'_id': ObjectId('5f01df2dc82aee057490f579'),\n",
      " 'date': '2020-07-05',\n",
      " 'link': 'https://news.mail.ru/politics/42449697/',\n",
      " 'sourse': 'РБК',\n",
      " 'title': 'Трамп пообещал США победу над радикалами вслед за коммунистами'}\n"
     ]
    }
   ],
   "source": [
    "for i in db.news.find({}).limit(2):\n",
    "    pprint(i)"
   ]
  }
 ],
 "metadata": {
  "kernelspec": {
   "display_name": "Python 3",
   "language": "python",
   "name": "python3"
  },
  "language_info": {
   "codemirror_mode": {
    "name": "ipython",
    "version": 3
   },
   "file_extension": ".py",
   "mimetype": "text/x-python",
   "name": "python",
   "nbconvert_exporter": "python",
   "pygments_lexer": "ipython3",
   "version": "3.7.6"
  }
 },
 "nbformat": 4,
 "nbformat_minor": 4
}
