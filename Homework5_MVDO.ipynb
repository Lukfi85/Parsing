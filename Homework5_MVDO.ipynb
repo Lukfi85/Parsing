{
 "cells": [
  {
   "cell_type": "code",
   "execution_count": 187,
   "metadata": {},
   "outputs": [],
   "source": [
    "from selenium import webdriver\n",
    "from selenium.webdriver.common.keys import Keys\n",
    "import time\n",
    "from selenium.webdriver.common.action_chains import ActionChains\n",
    "from selenium.webdriver.chrome.options import Options\n",
    "from pymongo import MongoClient"
   ]
  },
  {
   "cell_type": "code",
   "execution_count": 188,
   "metadata": {},
   "outputs": [],
   "source": [
    "client = MongoClient('127.0.0.1', 27017)\n",
    "db = client['mvdo']"
   ]
  },
  {
   "cell_type": "code",
   "execution_count": 189,
   "metadata": {},
   "outputs": [],
   "source": [
    "chrome_options = Options()\n",
    "chrome_options.add_argument('start-maximized')\n",
    "driver = webdriver.Chrome(options=chrome_options)\n",
    "driver.get('https://www.mvideo.ru/?cityId=CityCZ_975')\n",
    "actions = ActionChains(driver)"
   ]
  },
  {
   "cell_type": "code",
   "execution_count": 190,
   "metadata": {},
   "outputs": [],
   "source": [
    "goods = driver.find_elements_by_xpath(\"//div[@class = 'main-holder sel-main-holder']/div[7]//li\")\n",
    "actions.move_to_element(goods[0])\n",
    "actions.perform()\n"
   ]
  },
  {
   "cell_type": "code",
   "execution_count": 191,
   "metadata": {},
   "outputs": [],
   "source": [
    "while True:\n",
    "    time.sleep(4)\n",
    "    goods = driver.find_elements_by_xpath(\"//div[@class = 'main-holder sel-main-holder']/div[7]//li\")\n",
    "    for good in goods:\n",
    "        data = {}\n",
    "        data['title'] = good.find_element_by_css_selector('h4').text\n",
    "        data['price'] = good.find_element_by_class_name('c-pdp-price__current').text\n",
    "        db.mvdo.update_one({'title': data['title']},  {\"$set\": data}, upsert=True)\n",
    "    try:\n",
    "        button = driver.find_element_by_xpath(\"//div[@class = 'main-holder sel-main-holder']/div[7]//a[@class ='next-btn sel-hits-button-next']\")\n",
    "        actions.click(button)\n",
    "        actions.perform()\n",
    "    except:\n",
    "        break\n",
    "        "
   ]
  },
  {
   "cell_type": "code",
   "execution_count": 193,
   "metadata": {},
   "outputs": [
    {
     "name": "stdout",
     "output_type": "stream",
     "text": [
      "{'_id': ObjectId('5f063a864368dabc3b84b2c3'), 'title': 'Смартфон Samsung Galaxy Note10 Aura Glow (SM-N970F)', 'price': '79 990¤'}\n",
      "{'_id': ObjectId('5f063a864368dabc3b84b2c5'), 'title': 'Смартфон Samsung Galaxy Note10 Black (SM-N970F)', 'price': '79 990¤'}\n",
      "{'_id': ObjectId('5f063a864368dabc3b84b2c7'), 'title': 'Смартфон Samsung Galaxy Note10 Red (SM-N970F)', 'price': '79 990¤'}\n",
      "{'_id': ObjectId('5f063a864368dabc3b84b2c9'), 'title': 'Смартфон Samsung Galaxy Note10+ Aura Glow (SM-N975F)', 'price': '89 990¤'}\n"
     ]
    }
   ],
   "source": [
    "for i in db.mvdo.find({}).limit(4):\n",
    "    print(i)"
   ]
  },
  {
   "cell_type": "code",
   "execution_count": null,
   "metadata": {},
   "outputs": [],
   "source": []
  },
  {
   "cell_type": "code",
   "execution_count": null,
   "metadata": {},
   "outputs": [],
   "source": []
  }
 ],
 "metadata": {
  "kernelspec": {
   "display_name": "Python 3",
   "language": "python",
   "name": "python3"
  },
  "language_info": {
   "codemirror_mode": {
    "name": "ipython",
    "version": 3
   },
   "file_extension": ".py",
   "mimetype": "text/x-python",
   "name": "python",
   "nbconvert_exporter": "python",
   "pygments_lexer": "ipython3",
   "version": "3.7.6"
  }
 },
 "nbformat": 4,
 "nbformat_minor": 4
}
